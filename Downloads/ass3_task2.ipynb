{
 "cells": [
  {
   "cell_type": "markdown",
   "metadata": {},
   "source": [
    "## Ass3 Live Programming - Classifier Evaluation\n",
    "### Important:\n",
    "* #### Read the entire task description before starting\n",
    "* #### Do only what is asked\n",
    "* #### You find documentation for the provided components below\n",
    "\n",
    "### Task:\n",
    "* #### Your task is to evaluate the performance of various classifiers (given in `classifiers`) for classifying PCA-transformed MNIST images with different numbers of PCA features.\n",
    "  * The classifiers' interfaces are documented below.\n",
    "  * Do not hardcode (or copy-paste) the code for the individual classifiers. Your function `evaluate` should work with arbitrary dictionaries of the same structure.\n",
    "* #### The data loaded is already PCA-transformed, it has the same structure as always (feature_matrix: num_samples x num_features, label_vector: num_samples)\n",
    "* #### Create an evaluation as shown in the plot below (plots just have to be there and don't have to be as beautiful as ours :P): \n",
    "  * The crosses (X) mark the highest accuracy for each classifier. You might want to use `np.argmax` (\"Returns the indices of the maximum values along an axis.\") to find the number of features corresponding to the highest accuracy.\n",
    "  * Let `evaluate` return a dictionary containing the best number of features and corresponding accuracy for each classifier as a tuple, eg.:\n",
    "  ```python\n",
    "  {'euclidean_5nn': (50, 0.88),\n",
    "    'cosine_5nn': (100, 0.89),\n",
    "    'tree': (6, 0.69),\n",
    "    'svc': (20, 0.93)}\n",
    "    ```"
   ]
  },
  {
   "cell_type": "markdown",
   "metadata": {},
   "source": [
    "#### All classifiers provide the following interfaces:\n",
    "\n",
    "```\n",
    "Classifier.fit(self, X, y)\n",
    "    \"\"\"Fits the model to the given training data\n",
    "\n",
    "    Parameters\n",
    "    ----------\n",
    "    X : np.ndarray\n",
    "        training features\n",
    "    y : np.ndarray\n",
    "        training labels\n",
    "    \"\"\"\n",
    "    \n",
    "Classifier.score(self, X, y)\n",
    "    \"\"\"Return the global accuracy of the given test data and labels.\n",
    "\n",
    "    Parameters\n",
    "    ----------\n",
    "    X : np.ndarray\n",
    "        testina features\n",
    "    y : np.ndarray\n",
    "        testina labels\n",
    "\n",
    "    Returns\n",
    "    -------\n",
    "    score : float\n",
    "        Mean accuracy of the prediction.\n",
    "```\n",
    "\n",
    "#### Lineplots can be created like this\n",
    "```python\n",
    "lineplot = hv.Curve((x_data, y_data))\n",
    "```\n",
    "#### To add a label, use\n",
    "```python\n",
    "lineplot = hv.Curve((x_data, y_data), label=\"whatever\")\n",
    "```\n",
    "#### Scatterplots can be created like this\n",
    "```python\n",
    "scatterplot = hv.Scatter((x_data, y_data))\n",
    "scatterplot = hv.Scatter((x_data, y_data)).opts(size=20, marker=\"x\", color=\"k\") # to create nice big X's\n",
    "```\n",
    "#### And combined into an overlay using hv.Overlay, or by multiplying them\n",
    "```python\n",
    "overlay = hv.Overlay(list_of_plots)\n",
    "overlay = plot1 * plot2\n",
    "```\n",
    "#### Plots can be placed next to each other using hv.Layout from a list, or by adding them\n",
    "```python\n",
    "layout = hv.Layout(list_of_plots)\n",
    "layout = plot_or_layout + plot_or_layout\n",
    "```\n"
   ]
  },
  {
   "cell_type": "code",
   "execution_count": 1,
   "metadata": {},
   "outputs": [],
   "source": [
    "# Execute this to import the provided components\n",
    "import pickle\n",
    "\n",
    "from sklearn.neighbors import KNeighborsClassifier\n",
    "from sklearn.tree import DecisionTreeClassifier\n",
    "from sklearn.svm import SVC\n",
    "\n",
    "import numpy as np\n",
    "import holoviews as hv\n",
    "hv.extension(\"bokeh\")\n",
    "\n",
    "from IPython.display import clear_output\n",
    "clear_output()"
   ]
  },
  {
   "cell_type": "code",
   "execution_count": 2,
   "metadata": {},
   "outputs": [],
   "source": [
    "with open(\"image_pca.p\", \"rb\") as pf:\n",
    "    (X_train, y_train), (X_test, y_test) = pickle.load(pf)\n",
    "    # X_train.shape -> (num_train_samples, num_features)\n",
    "    # y_train.shape -> (num_train_samples,)\n",
    "    # X_test.shape  -> (num_test_samples, num_features)\n",
    "    # y_test.shape  -> (num_test_samples,)"
   ]
  },
  {
   "cell_type": "code",
   "execution_count": 27,
   "metadata": {},
   "outputs": [],
   "source": [
    "classifiers = {\n",
    "    \"euclidean_5nn\" : KNeighborsClassifier(n_neighbors=5, metric=\"euclidean\"),\n",
    "    \"cosine_5nn\" : KNeighborsClassifier(n_neighbors=5, metric=\"cosine\"),\n",
    "    \"tree\": DecisionTreeClassifier(),\n",
    "    \"svc\": SVC(),\n",
    "}\n",
    "\n",
    "\n",
    "num_features = [1,2,3,4,5,6,7,8,9,10,20,30,40,50,100]\n",
    "\n",
    "def evaluate(classifiers, X_train, y_train, X_test, y_test, num_dims):\n",
    "    # YOUR CODE GOES HERE:\n",
    "    \n",
    "    big_dict = {}\n",
    "    plot_list = []\n",
    "    return_dict = {}\n",
    "    \n",
    "    for clf in classifiers.keys():\n",
    "        big_dict[clf] = []\n",
    "        return_dict[clf] = ()\n",
    "        for feature in num_features:\n",
    "            classifiers[clf].fit(X_train[:, :feature], y_train)\n",
    "            big_dict[clf].append(classifiers[clf].score(X_test[:, :feature], y_test))\n",
    "        value = big_dict[clf][np.argmax(big_dict[clf])]\n",
    "        location = num_features[np.argmax(big_dict[clf])]\n",
    "        return_dict[clf] = (location, value)\n",
    "            \n",
    "        plot_list.append(hv.Curve((num_dims, big_dict[clf]), legend=clf).opts(xlabel='Number of PCA features', ylabel=\"global accuracy\"))\n",
    "        \n",
    "    display(hv.Overlay(plot_list))\n",
    "        \n",
    "    return return_dict\n",
    "    \n",
    "    "
   ]
  },
  {
   "cell_type": "code",
   "execution_count": 28,
   "metadata": {},
   "outputs": [
    {
     "name": "stderr",
     "output_type": "stream",
     "text": [
      "WARNING:param.Curve03483: Setting non-parameter attribute legend=euclidean_5nn using a mechanism intended only for parameters\n",
      "WARNING:param.Curve03511: Setting non-parameter attribute legend=cosine_5nn using a mechanism intended only for parameters\n",
      "WARNING:param.Curve03539: Setting non-parameter attribute legend=tree using a mechanism intended only for parameters\n",
      "WARNING:param.Curve03567: Setting non-parameter attribute legend=svc using a mechanism intended only for parameters\n"
     ]
    },
    {
     "data": {},
     "metadata": {},
     "output_type": "display_data"
    },
    {
     "data": {
      "application/vnd.holoviews_exec.v0+json": "",
      "text/html": [
       "<div id='2013'>\n",
       "\n",
       "\n",
       "\n",
       "\n",
       "\n",
       "  <div class=\"bk-root\" id=\"300130a4-768c-4fe9-b234-658d0d97136c\" data-root-id=\"2013\"></div>\n",
       "</div>\n",
       "<script type=\"application/javascript\">(function(root) {\n",
       "  function embed_document(root) {\n",
       "  var docs_json = {\"8d0e5093-d6b6-4470-a7f8-b65edefd6692\":{\"roots\":{\"references\":[{\"attributes\":{\"data_source\":{\"id\":\"2058\"},\"glyph\":{\"id\":\"2061\"},\"hover_glyph\":null,\"muted_glyph\":{\"id\":\"2063\"},\"nonselection_glyph\":{\"id\":\"2062\"},\"selection_glyph\":null,\"view\":{\"id\":\"2065\"}},\"id\":\"2064\",\"type\":\"GlyphRenderer\"},{\"attributes\":{},\"id\":\"2034\",\"type\":\"SaveTool\"},{\"attributes\":{\"active_drag\":\"auto\",\"active_inspect\":\"auto\",\"active_multi\":null,\"active_scroll\":\"auto\",\"active_tap\":\"auto\",\"tools\":[{\"id\":\"2034\"},{\"id\":\"2035\"},{\"id\":\"2036\"},{\"id\":\"2037\"},{\"id\":\"2038\"}]},\"id\":\"2040\",\"type\":\"Toolbar\"},{\"attributes\":{\"data\":{\"x\":{\"__ndarray__\":\"AQAAAAIAAAADAAAABAAAAAUAAAAGAAAABwAAAAgAAAAJAAAACgAAABQAAAAeAAAAKAAAADIAAABkAAAA\",\"dtype\":\"int32\",\"shape\":[15]},\"y\":{\"__ndarray__\":\"mpmZmZmZ2T+PwvUoXI/iP+xRuB6F6+E/MzMzMzMz4z8UrkfhehTmPwAAAAAAAOg/AAAAAAAA6D8AAAAAAADoP5qZmZmZmek/7FG4HoXr6T/Xo3A9CtfrPzMzMzMzM+s/16NwPQrX6z8pXI/C9SjsP9ejcD0K1+s/\",\"dtype\":\"float64\",\"shape\":[15]}},\"selected\":{\"id\":\"2051\"},\"selection_policy\":{\"id\":\"2089\"}},\"id\":\"2050\",\"type\":\"ColumnDataSource\"},{\"attributes\":{},\"id\":\"2095\",\"type\":\"UnionRenderers\"},{\"attributes\":{\"line_color\":\"#fc4f30\",\"line_width\":2,\"x\":{\"field\":\"x\"},\"y\":{\"field\":\"y\"}},\"id\":\"2061\",\"type\":\"Line\"},{\"attributes\":{\"axis\":{\"id\":\"2030\"},\"dimension\":1,\"grid_line_color\":null,\"ticker\":null},\"id\":\"2033\",\"type\":\"Grid\"},{\"attributes\":{\"line_color\":\"#e5ae38\",\"line_width\":2,\"x\":{\"field\":\"x\"},\"y\":{\"field\":\"y\"}},\"id\":\"2069\",\"type\":\"Line\"},{\"attributes\":{\"axis_label\":\"Number of PCA features\",\"bounds\":\"auto\",\"formatter\":{\"id\":\"2046\"},\"major_label_orientation\":\"horizontal\",\"ticker\":{\"id\":\"2027\"}},\"id\":\"2026\",\"type\":\"LinearAxis\"},{\"attributes\":{},\"id\":\"2036\",\"type\":\"WheelZoomTool\"},{\"attributes\":{\"source\":{\"id\":\"2058\"}},\"id\":\"2065\",\"type\":\"CDSView\"},{\"attributes\":{\"line_alpha\":0.1,\"line_color\":\"#e5ae38\",\"line_width\":2,\"x\":{\"field\":\"x\"},\"y\":{\"field\":\"y\"}},\"id\":\"2070\",\"type\":\"Line\"},{\"attributes\":{\"line_color\":\"#6d904f\",\"line_width\":2,\"x\":{\"field\":\"x\"},\"y\":{\"field\":\"y\"}},\"id\":\"2077\",\"type\":\"Line\"},{\"attributes\":{\"line_alpha\":0.2,\"line_color\":\"#fc4f30\",\"line_width\":2,\"x\":{\"field\":\"x\"},\"y\":{\"field\":\"y\"}},\"id\":\"2063\",\"type\":\"Line\"},{\"attributes\":{\"margin\":[5,5,5,5],\"name\":\"HSpacer03603\",\"sizing_mode\":\"stretch_width\"},\"id\":\"2194\",\"type\":\"Spacer\"},{\"attributes\":{\"align\":null,\"below\":[{\"id\":\"2026\"}],\"center\":[{\"id\":\"2029\"},{\"id\":\"2033\"}],\"left\":[{\"id\":\"2030\"}],\"margin\":null,\"min_border_bottom\":10,\"min_border_left\":10,\"min_border_right\":10,\"min_border_top\":10,\"plot_height\":300,\"plot_width\":300,\"renderers\":[{\"id\":\"2056\"},{\"id\":\"2064\"},{\"id\":\"2072\"},{\"id\":\"2080\"}],\"sizing_mode\":\"fixed\",\"title\":{\"id\":\"2018\"},\"toolbar\":{\"id\":\"2040\"},\"x_range\":{\"id\":\"2015\"},\"x_scale\":{\"id\":\"2022\"},\"y_range\":{\"id\":\"2016\"},\"y_scale\":{\"id\":\"2024\"}},\"id\":\"2017\",\"subtype\":\"Figure\",\"type\":\"Plot\"},{\"attributes\":{\"data_source\":{\"id\":\"2066\"},\"glyph\":{\"id\":\"2069\"},\"hover_glyph\":null,\"muted_glyph\":{\"id\":\"2071\"},\"nonselection_glyph\":{\"id\":\"2070\"},\"selection_glyph\":null,\"view\":{\"id\":\"2073\"}},\"id\":\"2072\",\"type\":\"GlyphRenderer\"},{\"attributes\":{},\"id\":\"2031\",\"type\":\"BasicTicker\"},{\"attributes\":{\"data\":{\"x\":{\"__ndarray__\":\"AQAAAAIAAAADAAAABAAAAAUAAAAGAAAABwAAAAgAAAAJAAAACgAAABQAAAAeAAAAKAAAADIAAABkAAAA\",\"dtype\":\"int32\",\"shape\":[15]},\"y\":{\"__ndarray__\":\"hetRuB6F2z9cj8L1KFzfP+xRuB6F6+E/UrgehetR4D+kcD0K16PgP8P1KFyPwuU/cT0K16Nw5T8fhetRuB7lP+F6FK5H4eI/H4XrUbge5T/Xo3A9CtfjPxSuR+F6FOY/exSuR+F65D8fhetRuB7lP3sUrkfheuQ/\",\"dtype\":\"float64\",\"shape\":[15]}},\"selected\":{\"id\":\"2067\"},\"selection_policy\":{\"id\":\"2093\"}},\"id\":\"2066\",\"type\":\"ColumnDataSource\"},{\"attributes\":{\"end\":0.9830000000000001,\"reset_end\":0.9830000000000001,\"reset_start\":0.34700000000000003,\"start\":0.34700000000000003,\"tags\":[[[\"y\",\"y\",null]]]},\"id\":\"2016\",\"type\":\"Range1d\"},{\"attributes\":{},\"id\":\"2022\",\"type\":\"LinearScale\"},{\"attributes\":{\"bottom_units\":\"screen\",\"fill_alpha\":0.5,\"fill_color\":\"lightgrey\",\"left_units\":\"screen\",\"level\":\"overlay\",\"line_alpha\":1.0,\"line_color\":\"black\",\"line_dash\":[4,4],\"line_width\":2,\"render_mode\":\"css\",\"right_units\":\"screen\",\"top_units\":\"screen\"},\"id\":\"2039\",\"type\":\"BoxAnnotation\"},{\"attributes\":{},\"id\":\"2089\",\"type\":\"UnionRenderers\"},{\"attributes\":{\"data\":{\"x\":{\"__ndarray__\":\"AQAAAAIAAAADAAAABAAAAAUAAAAGAAAABwAAAAgAAAAJAAAACgAAABQAAAAeAAAAKAAAADIAAABkAAAA\",\"dtype\":\"int32\",\"shape\":[15]},\"y\":{\"__ndarray__\":\"SOF6FK5H4T/Xo3A9CtfjPzMzMzMzM+M/16NwPQrX4z/2KFyPwvXoP4/C9Shcj+o/KVyPwvUo7D8pXI/C9SjsPylcj8L1KOw/cT0K16Nw7T/D9Shcj8LtP3E9CtejcO0/w/UoXI/C7T9xPQrXo3DtP8P1KFyPwu0/\",\"dtype\":\"float64\",\"shape\":[15]}},\"selected\":{\"id\":\"2075\"},\"selection_policy\":{\"id\":\"2095\"}},\"id\":\"2074\",\"type\":\"ColumnDataSource\"},{\"attributes\":{},\"id\":\"2059\",\"type\":\"Selection\"},{\"attributes\":{\"source\":{\"id\":\"2066\"}},\"id\":\"2073\",\"type\":\"CDSView\"},{\"attributes\":{},\"id\":\"2093\",\"type\":\"UnionRenderers\"},{\"attributes\":{\"data_source\":{\"id\":\"2074\"},\"glyph\":{\"id\":\"2077\"},\"hover_glyph\":null,\"muted_glyph\":{\"id\":\"2079\"},\"nonselection_glyph\":{\"id\":\"2078\"},\"selection_glyph\":null,\"view\":{\"id\":\"2081\"}},\"id\":\"2080\",\"type\":\"GlyphRenderer\"},{\"attributes\":{\"data\":{\"x\":{\"__ndarray__\":\"AQAAAAIAAAADAAAABAAAAAUAAAAGAAAABwAAAAgAAAAJAAAACgAAABQAAAAeAAAAKAAAADIAAABkAAAA\",\"dtype\":\"int32\",\"shape\":[15]},\"y\":{\"__ndarray__\":\"9ihcj8L14D/sUbgehevhPz0K16NwPeI/j8L1KFyP4j8UrkfhehTmP65H4XoUruc/pHA9Ctej6D+amZmZmZnpP5qZmZmZmek/MzMzMzMz6z/Xo3A9CtfrP9ejcD0K1+s/16NwPQrX6z8pXI/C9SjsP3sUrkfheuw/\",\"dtype\":\"float64\",\"shape\":[15]}},\"selected\":{\"id\":\"2059\"},\"selection_policy\":{\"id\":\"2091\"}},\"id\":\"2058\",\"type\":\"ColumnDataSource\"},{\"attributes\":{},\"id\":\"2051\",\"type\":\"Selection\"},{\"attributes\":{},\"id\":\"2048\",\"type\":\"BasicTickFormatter\"},{\"attributes\":{},\"id\":\"2038\",\"type\":\"ResetTool\"},{\"attributes\":{\"line_alpha\":0.2,\"line_color\":\"#e5ae38\",\"line_width\":2,\"x\":{\"field\":\"x\"},\"y\":{\"field\":\"y\"}},\"id\":\"2071\",\"type\":\"Line\"},{\"attributes\":{},\"id\":\"2046\",\"type\":\"BasicTickFormatter\"},{\"attributes\":{\"children\":[{\"id\":\"2014\"},{\"id\":\"2017\"},{\"id\":\"2194\"}],\"margin\":[0,0,0,0],\"name\":\"Row03598\",\"tags\":[\"embedded\"]},\"id\":\"2013\",\"type\":\"Row\"},{\"attributes\":{\"source\":{\"id\":\"2074\"}},\"id\":\"2081\",\"type\":\"CDSView\"},{\"attributes\":{\"line_alpha\":0.1,\"line_color\":\"#fc4f30\",\"line_width\":2,\"x\":{\"field\":\"x\"},\"y\":{\"field\":\"y\"}},\"id\":\"2062\",\"type\":\"Line\"},{\"attributes\":{\"line_alpha\":0.2,\"line_color\":\"#6d904f\",\"line_width\":2,\"x\":{\"field\":\"x\"},\"y\":{\"field\":\"y\"}},\"id\":\"2079\",\"type\":\"Line\"},{\"attributes\":{},\"id\":\"2067\",\"type\":\"Selection\"},{\"attributes\":{},\"id\":\"2027\",\"type\":\"BasicTicker\"},{\"attributes\":{},\"id\":\"2091\",\"type\":\"UnionRenderers\"},{\"attributes\":{\"text\":\"\",\"text_color\":{\"value\":\"black\"},\"text_font_size\":{\"value\":\"12pt\"}},\"id\":\"2018\",\"type\":\"Title\"},{\"attributes\":{\"source\":{\"id\":\"2050\"}},\"id\":\"2057\",\"type\":\"CDSView\"},{\"attributes\":{\"line_alpha\":0.1,\"line_color\":\"#30a2da\",\"line_width\":2,\"x\":{\"field\":\"x\"},\"y\":{\"field\":\"y\"}},\"id\":\"2054\",\"type\":\"Line\"},{\"attributes\":{\"line_alpha\":0.1,\"line_color\":\"#6d904f\",\"line_width\":2,\"x\":{\"field\":\"x\"},\"y\":{\"field\":\"y\"}},\"id\":\"2078\",\"type\":\"Line\"},{\"attributes\":{\"axis\":{\"id\":\"2026\"},\"grid_line_color\":null,\"ticker\":null},\"id\":\"2029\",\"type\":\"Grid\"},{\"attributes\":{},\"id\":\"2075\",\"type\":\"Selection\"},{\"attributes\":{\"margin\":[5,5,5,5],\"name\":\"HSpacer03602\",\"sizing_mode\":\"stretch_width\"},\"id\":\"2014\",\"type\":\"Spacer\"},{\"attributes\":{\"line_alpha\":0.2,\"line_color\":\"#30a2da\",\"line_width\":2,\"x\":{\"field\":\"x\"},\"y\":{\"field\":\"y\"}},\"id\":\"2055\",\"type\":\"Line\"},{\"attributes\":{\"data_source\":{\"id\":\"2050\"},\"glyph\":{\"id\":\"2053\"},\"hover_glyph\":null,\"muted_glyph\":{\"id\":\"2055\"},\"nonselection_glyph\":{\"id\":\"2054\"},\"selection_glyph\":null,\"view\":{\"id\":\"2057\"}},\"id\":\"2056\",\"type\":\"GlyphRenderer\"},{\"attributes\":{\"overlay\":{\"id\":\"2039\"}},\"id\":\"2037\",\"type\":\"BoxZoomTool\"},{\"attributes\":{\"line_color\":\"#30a2da\",\"line_width\":2,\"x\":{\"field\":\"x\"},\"y\":{\"field\":\"y\"}},\"id\":\"2053\",\"type\":\"Line\"},{\"attributes\":{},\"id\":\"2024\",\"type\":\"LinearScale\"},{\"attributes\":{},\"id\":\"2035\",\"type\":\"PanTool\"},{\"attributes\":{\"end\":100.0,\"reset_end\":100.0,\"reset_start\":1.0,\"start\":1.0,\"tags\":[[[\"x\",\"x\",null]]]},\"id\":\"2015\",\"type\":\"Range1d\"},{\"attributes\":{\"axis_label\":\"global accuracy\",\"bounds\":\"auto\",\"formatter\":{\"id\":\"2048\"},\"major_label_orientation\":\"horizontal\",\"ticker\":{\"id\":\"2031\"}},\"id\":\"2030\",\"type\":\"LinearAxis\"}],\"root_ids\":[\"2013\"]},\"title\":\"Bokeh Application\",\"version\":\"2.0.1\"}};\n",
       "  var render_items = [{\"docid\":\"8d0e5093-d6b6-4470-a7f8-b65edefd6692\",\"root_ids\":[\"2013\"],\"roots\":{\"2013\":\"300130a4-768c-4fe9-b234-658d0d97136c\"}}];\n",
       "  root.Bokeh.embed.embed_items_notebook(docs_json, render_items);\n",
       "  }\n",
       "if (root.Bokeh !== undefined) {\n",
       "    embed_document(root);\n",
       "  } else {\n",
       "    var attempts = 0;\n",
       "    var timer = setInterval(function(root) {\n",
       "      if (root.Bokeh !== undefined) {\n",
       "        clearInterval(timer);\n",
       "        embed_document(root);\n",
       "      } else if (document.readyState == \"complete\") {\n",
       "        attempts++;\n",
       "        if (attempts > 100) {\n",
       "          clearInterval(timer);\n",
       "          console.log(\"Bokeh: ERROR: Unable to run BokehJS code because BokehJS library is missing\");\n",
       "        }\n",
       "      }\n",
       "    }, 10, root)\n",
       "  }\n",
       "})(window);</script>"
      ],
      "text/plain": [
       ":Overlay\n",
       "   .Curve.I   :Curve   [x]   (y)\n",
       "   .Curve.II  :Curve   [x]   (y)\n",
       "   .Curve.III :Curve   [x]   (y)\n",
       "   .Curve.IV  :Curve   [x]   (y)"
      ]
     },
     "metadata": {
      "application/vnd.holoviews_exec.v0+json": {
       "id": "2013"
      }
     },
     "output_type": "display_data"
    },
    {
     "data": {
      "text/plain": [
       "{'euclidean_5nn': (50, 0.88),\n",
       " 'cosine_5nn': (100, 0.89),\n",
       " 'tree': (30, 0.69),\n",
       " 'svc': (20, 0.93)}"
      ]
     },
     "execution_count": 28,
     "metadata": {},
     "output_type": "execute_result"
    }
   ],
   "source": [
    "evaluate(classifiers, X_train, y_train, X_test, y_test, num_features)"
   ]
  },
  {
   "cell_type": "code",
   "execution_count": null,
   "metadata": {},
   "outputs": [],
   "source": []
  }
 ],
 "metadata": {
  "kernelspec": {
   "display_name": "Python 3",
   "language": "python",
   "name": "python3"
  },
  "language_info": {
   "codemirror_mode": {
    "name": "ipython",
    "version": 3
   },
   "file_extension": ".py",
   "mimetype": "text/x-python",
   "name": "python",
   "nbconvert_exporter": "python",
   "pygments_lexer": "ipython3",
   "version": "3.7.6"
  }
 },
 "nbformat": 4,
 "nbformat_minor": 4
}
